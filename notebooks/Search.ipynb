{
 "cells": [
  {
   "cell_type": "code",
   "execution_count": null,
   "metadata": {
    "ExecuteTime": {
     "end_time": "2020-04-03T19:05:10.447730Z",
     "start_time": "2020-04-03T19:05:10.444517Z"
    }
   },
   "outputs": [],
   "source": [
    "import sys\n",
    "import os\n",
    "sys.path.append(os.path.abspath('../clustering'))"
   ]
  },
  {
   "cell_type": "code",
   "execution_count": null,
   "metadata": {
    "ExecuteTime": {
     "end_time": "2020-04-03T19:05:12.570452Z",
     "start_time": "2020-04-03T19:05:11.035577Z"
    }
   },
   "outputs": [],
   "source": [
    "import pandas as pd\n",
    "from sklearn.feature_extraction.text import TfidfVectorizer\n",
    "import torch\n",
    "from tqdm import tqdm\n",
    "from transformers import *"
   ]
  },
  {
   "cell_type": "code",
   "execution_count": null,
   "metadata": {
    "ExecuteTime": {
     "end_time": "2020-04-03T19:05:12.924101Z",
     "start_time": "2020-04-03T19:05:12.572154Z"
    }
   },
   "outputs": [],
   "source": [
    "from text_extraction_functions import *\n",
    "from build_embedding_functions import *\n",
    "from visualize_embedding_functions import *"
   ]
  },
  {
   "cell_type": "code",
   "execution_count": null,
   "metadata": {
    "ExecuteTime": {
     "end_time": "2020-04-03T19:05:12.931214Z",
     "start_time": "2020-04-03T19:05:12.926231Z"
    }
   },
   "outputs": [],
   "source": [
    "directory = '../../CORD-19-research-challenge/biorxiv_medrxiv/biorxiv_medrxiv'"
   ]
  },
  {
   "cell_type": "code",
   "execution_count": null,
   "metadata": {
    "ExecuteTime": {
     "end_time": "2020-04-03T19:05:18.214655Z",
     "start_time": "2020-04-03T19:05:13.267814Z"
    }
   },
   "outputs": [],
   "source": [
    "documents = extract_documents(directory, remove_ints=False)[:20]"
   ]
  },
  {
   "cell_type": "code",
   "execution_count": null,
   "metadata": {
    "ExecuteTime": {
     "end_time": "2020-04-03T19:07:19.777199Z",
     "start_time": "2020-04-03T19:05:18.216343Z"
    }
   },
   "outputs": [],
   "source": [
    "documents_to_embeddings, paragraphs_to_embeddings, sentences_to_embeddings = build_scibert_embeds_documents_avg(documents)"
   ]
  },
  {
   "cell_type": "code",
   "execution_count": null,
   "metadata": {
    "ExecuteTime": {
     "end_time": "2020-04-03T19:07:19.802900Z",
     "start_time": "2020-04-03T19:07:19.780371Z"
    }
   },
   "outputs": [],
   "source": [
    "list(paragraphs_to_embeddings.items())[0]"
   ]
  },
  {
   "cell_type": "code",
   "execution_count": null,
   "metadata": {
    "ExecuteTime": {
     "end_time": "2020-04-03T19:07:19.808682Z",
     "start_time": "2020-04-03T19:07:19.806034Z"
    }
   },
   "outputs": [],
   "source": [
    "text = \"What are potentially similar viruses?\""
   ]
  },
  {
   "cell_type": "code",
   "execution_count": null,
   "metadata": {
    "ExecuteTime": {
     "end_time": "2020-04-03T19:07:22.969920Z",
     "start_time": "2020-04-03T19:07:19.811147Z"
    }
   },
   "outputs": [],
   "source": [
    "embedding = build_scibert_embeds_sentences([text])7"
   ]
  },
  {
   "cell_type": "code",
   "execution_count": null,
   "metadata": {
    "ExecuteTime": {
     "end_time": "2020-04-03T19:07:23.852075Z",
     "start_time": "2020-04-03T19:07:23.115173Z"
    }
   },
   "outputs": [],
   "source": [
    "search_top_five(list(embedding.values())[0], sentences_to_embeddings)"
   ]
  },
  {
   "cell_type": "code",
   "execution_count": null,
   "metadata": {
    "ExecuteTime": {
     "end_time": "2020-04-03T16:40:49.095866Z",
     "start_time": "2020-04-03T16:40:42.553427Z"
    }
   },
   "outputs": [],
   "source": [
    "sentences_to_embeddings"
   ]
  },
  {
   "cell_type": "code",
   "execution_count": null,
   "metadata": {
    "ExecuteTime": {
     "end_time": "2020-04-03T18:42:25.290919Z",
     "start_time": "2020-04-03T18:42:25.257211Z"
    }
   },
   "outputs": [],
   "source": [
    "with open(\"/Users/emilymu/Documents/COVIDAnalysis/clustering/scibert_embeds_biorxiv_medrxiv_biorxiv_medrxiv.json\", \"r\") as json_file:\n",
    "    text_to_embeddings = json.load(json_file)"
   ]
  },
  {
   "cell_type": "code",
   "execution_count": null,
   "metadata": {
    "ExecuteTime": {
     "end_time": "2020-04-03T18:42:43.010493Z",
     "start_time": "2020-04-03T18:42:42.999388Z"
    }
   },
   "outputs": [],
   "source": [
    "list(text_to_embeddings.items())[0]"
   ]
  },
  {
   "cell_type": "code",
   "execution_count": null,
   "metadata": {
    "ExecuteTime": {
     "end_time": "2020-04-03T18:41:54.008144Z",
     "start_time": "2020-04-03T18:41:54.004091Z"
    }
   },
   "outputs": [],
   "source": [
    "os.listdir()"
   ]
  },
  {
   "cell_type": "code",
   "execution_count": null,
   "metadata": {},
   "outputs": [],
   "source": []
  }
 ],
 "metadata": {
  "kernelspec": {
   "display_name": "Python 3",
   "language": "python",
   "name": "python3"
  },
  "language_info": {
   "codemirror_mode": {
    "name": "ipython",
    "version": 3
   },
   "file_extension": ".py",
   "mimetype": "text/x-python",
   "name": "python",
   "nbconvert_exporter": "python",
   "pygments_lexer": "ipython3",
   "version": "3.7.4"
  },
  "toc": {
   "base_numbering": 1,
   "nav_menu": {},
   "number_sections": true,
   "sideBar": true,
   "skip_h1_title": false,
   "title_cell": "Table of Contents",
   "title_sidebar": "Contents",
   "toc_cell": false,
   "toc_position": {
    "height": "calc(100% - 180px)",
    "left": "10px",
    "top": "150px",
    "width": "165px"
   },
   "toc_section_display": true,
   "toc_window_display": false
  }
 },
 "nbformat": 4,
 "nbformat_minor": 2
}
