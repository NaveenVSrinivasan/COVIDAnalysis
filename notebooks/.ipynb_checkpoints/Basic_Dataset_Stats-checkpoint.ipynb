{
 "cells": [
  {
   "cell_type": "markdown",
   "metadata": {},
   "source": [
    "## Basic Dataset Stats\n",
    "\n",
    "Things to look at:\n",
    "- number of articles without abstracts or full text\n",
    "- histogram of article lengths"
   ]
  },
  {
   "cell_type": "code",
   "execution_count": null,
   "metadata": {
    "ExecuteTime": {
     "end_time": "2020-03-24T18:06:20.268951Z",
     "start_time": "2020-03-24T18:06:20.266169Z"
    }
   },
   "outputs": [],
   "source": [
    "import pandas as pd\n",
    "import numpy as np\n",
    "import glob"
   ]
  },
  {
   "cell_type": "code",
   "execution_count": null,
   "metadata": {
    "ExecuteTime": {
     "end_time": "2020-03-24T17:50:12.187808Z",
     "start_time": "2020-03-24T17:50:12.018800Z"
    }
   },
   "outputs": [],
   "source": [
    "import matplotlib.pyplot as plt\n",
    "plt.style.use('ggplot')"
   ]
  },
  {
   "cell_type": "markdown",
   "metadata": {},
   "source": [
    "## Load Dataset\n",
    "\n",
    "Number of articles without abstracts and/or full text in metadata"
   ]
  },
  {
   "cell_type": "code",
   "execution_count": null,
   "metadata": {
    "ExecuteTime": {
     "end_time": "2020-03-24T17:52:49.949500Z",
     "start_time": "2020-03-24T17:52:49.947012Z"
    }
   },
   "outputs": [],
   "source": [
    "root_path = '~/Documents/CORD-19-research-challenge'\n",
    "metadata_path = f'{root_path}/metadata.csv'"
   ]
  },
  {
   "cell_type": "code",
   "execution_count": null,
   "metadata": {
    "ExecuteTime": {
     "end_time": "2020-03-24T17:52:50.977537Z",
     "start_time": "2020-03-24T17:52:50.444485Z"
    }
   },
   "outputs": [],
   "source": [
    "meta_df = pd.read_csv(metadata_path, dtype={\n",
    "    'pubmed_id': str,\n",
    "    'Microsoft Academic Paper ID': str, \n",
    "    'doi': str\n",
    "})\n",
    "meta_df.head()"
   ]
  },
  {
   "cell_type": "code",
   "execution_count": null,
   "metadata": {
    "ExecuteTime": {
     "end_time": "2020-03-24T18:03:40.350166Z",
     "start_time": "2020-03-24T18:03:40.335532Z"
    }
   },
   "outputs": [],
   "source": [
    "meta_df['has_full_text'] = meta_df['has_full_text'].map(lambda x: 1 if x else np.nan)"
   ]
  },
  {
   "cell_type": "code",
   "execution_count": null,
   "metadata": {
    "ExecuteTime": {
     "end_time": "2020-03-24T18:03:41.594979Z",
     "start_time": "2020-03-24T18:03:41.562622Z"
    }
   },
   "outputs": [],
   "source": [
    "meta_df.info()"
   ]
  },
  {
   "cell_type": "code",
   "execution_count": null,
   "metadata": {
    "ExecuteTime": {
     "end_time": "2020-03-24T18:31:58.677184Z",
     "start_time": "2020-03-24T18:31:58.668306Z"
    }
   },
   "outputs": [],
   "source": [
    "meta_df['full_text_file'].value_counts()"
   ]
  },
  {
   "cell_type": "code",
   "execution_count": null,
   "metadata": {
    "ExecuteTime": {
     "end_time": "2020-03-24T18:04:01.216773Z",
     "start_time": "2020-03-24T18:04:01.182962Z"
    }
   },
   "outputs": [],
   "source": [
    "meta_df.isnull().groupby(['abstract','has_full_text']).size()"
   ]
  },
  {
   "cell_type": "code",
   "execution_count": null,
   "metadata": {
    "ExecuteTime": {
     "end_time": "2020-03-24T18:32:52.667118Z",
     "start_time": "2020-03-24T18:32:52.656085Z"
    }
   },
   "outputs": [],
   "source": [
    "meta_df.groupby(['full_text_file','has_full_text']).size()"
   ]
  },
  {
   "cell_type": "code",
   "execution_count": null,
   "metadata": {
    "ExecuteTime": {
     "end_time": "2020-03-24T18:38:12.376611Z",
     "start_time": "2020-03-24T18:38:12.346733Z"
    }
   },
   "outputs": [],
   "source": [
    "meta_df['has_abstract'] = meta_df['abstract'].map(lambda x: 1 if x else np.nan)\n",
    "meta_df.groupby(['full_text_file','has_abstract']).size()"
   ]
  },
  {
   "cell_type": "markdown",
   "metadata": {},
   "source": [
    "## Load all JSON files\n",
    "\n",
    "Note: the number of json files don't exactly appear to match the number of has_full_text files from the metadata document\n",
    "\n",
    "Edited code courtesy of: https://www.kaggle.com/maksimeren/covid-19-literature-clustering"
   ]
  },
  {
   "cell_type": "code",
   "execution_count": null,
   "metadata": {
    "ExecuteTime": {
     "end_time": "2020-03-24T18:35:54.765652Z",
     "start_time": "2020-03-24T18:35:54.643280Z"
    }
   },
   "outputs": [],
   "source": [
    "all_json = glob.glob('../../CORD-19-research-challenge/**/*.json', recursive=True)"
   ]
  },
  {
   "cell_type": "code",
   "execution_count": null,
   "metadata": {
    "ExecuteTime": {
     "end_time": "2020-03-24T18:35:59.153664Z",
     "start_time": "2020-03-24T18:35:59.149837Z"
    }
   },
   "outputs": [],
   "source": [
    "len(all_json)"
   ]
  },
  {
   "cell_type": "code",
   "execution_count": null,
   "metadata": {
    "ExecuteTime": {
     "end_time": "2020-03-24T18:40:15.561775Z",
     "start_time": "2020-03-24T18:40:15.553431Z"
    }
   },
   "outputs": [],
   "source": [
    "class FileReader:\n",
    "    def __init__(self, file_path):\n",
    "        with open(file_path) as file:\n",
    "            self.source = file_path.split('/')[-2]\n",
    "            content = json.load(file)\n",
    "            self.paper_id = content['paper_id']\n",
    "            self.abstract = []\n",
    "            self.body_text = []\n",
    "            # Abstract\n",
    "            for entry in content['abstract']:\n",
    "                self.abstract.append(entry['text'])\n",
    "            # Body text\n",
    "            for entry in content['body_text']:\n",
    "                self.body_text.append(entry['text'])\n",
    "            self.abstract = '\\n'.join(self.abstract)\n",
    "            self.body_text = '\\n'.join(self.body_text)\n",
    "    def __repr__(self):\n",
    "        return f'{self.source}...{self.paper_id}: {self.abstract[:200]}... {self.body_text[:200]}...'\n",
    "first_row = FileReader(all_json[0])\n",
    "print(first_row)"
   ]
  },
  {
   "cell_type": "code",
   "execution_count": null,
   "metadata": {
    "ExecuteTime": {
     "end_time": "2020-03-24T19:16:09.729310Z",
     "start_time": "2020-03-24T19:14:52.721997Z"
    }
   },
   "outputs": [],
   "source": [
    "dict_ = {'source': [], 'paper_id': [], 'abstract': [], 'body_text': [], 'authors': [], 'title': [], 'journal': []}\n",
    "for idx, entry in enumerate(all_json):\n",
    "    if idx % (len(all_json) // 10) == 0:\n",
    "        print(f'Processing index: {idx} of {len(all_json)}')\n",
    "    content = FileReader(entry)\n",
    "    \n",
    "    # get metadata information\n",
    "    meta_data = meta_df.loc[meta_df['sha'] == content.paper_id]\n",
    "    \n",
    "    # no metadata, skip this paper\n",
    "    if len(meta_data) == 0:\n",
    "        continue\n",
    "    \n",
    "    dict_['source'].append(content.source)\n",
    "    dict_['paper_id'].append(content.paper_id)\n",
    "    dict_['abstract'].append(content.abstract)\n",
    "    dict_['body_text'].append(content.body_text)\n",
    "    \n",
    "    dict_['authors'].append(meta_data['authors'].values[0])\n",
    "    dict_['title'].append(meta_data['title'].values[0])\n",
    "    dict_['journal'].append(meta_data['journal'].values[0])\n",
    "    \n",
    "df_covid = pd.DataFrame(dict_, columns=['source', 'paper_id', 'abstract', 'body_text', 'authors'])\n",
    "df_covid.head()"
   ]
  },
  {
   "cell_type": "code",
   "execution_count": null,
   "metadata": {
    "ExecuteTime": {
     "end_time": "2020-03-24T19:16:16.169912Z",
     "start_time": "2020-03-24T19:16:09.731498Z"
    }
   },
   "outputs": [],
   "source": [
    "df_covid['abstract_word_count'] = df_covid['abstract'].apply(lambda x: len(x.strip().split()))\n",
    "df_covid['body_word_count'] = df_covid['body_text'].apply(lambda x: len(x.strip().split()))\n",
    "df_covid['has_body_text'] = df_covid['body_text'].map(lambda x: 1 if x else np.nan)\n",
    "df_covid['has_abstract'] = df_covid['abstract'].map(lambda x: 1 if x else np.nan)"
   ]
  },
  {
   "cell_type": "code",
   "execution_count": null,
   "metadata": {
    "ExecuteTime": {
     "end_time": "2020-03-24T19:16:16.213394Z",
     "start_time": "2020-03-24T19:16:16.196274Z"
    }
   },
   "outputs": [],
   "source": [
    "df_covid.isnull().groupby(['has_abstract','has_body_text']).size()"
   ]
  },
  {
   "cell_type": "markdown",
   "metadata": {},
   "source": [
    "There do appear to exist duplicate entries for abstract/body text"
   ]
  },
  {
   "cell_type": "code",
   "execution_count": null,
   "metadata": {
    "ExecuteTime": {
     "end_time": "2020-03-24T19:22:31.911183Z",
     "start_time": "2020-03-24T19:22:30.057418Z"
    }
   },
   "outputs": [],
   "source": [
    "df_covid[df_covid.duplicated(subset=['abstract', 'body_text'], keep=False)].sort_values(by=['abstract', 'body_text'])"
   ]
  },
  {
   "cell_type": "code",
   "execution_count": null,
   "metadata": {
    "ExecuteTime": {
     "end_time": "2020-03-24T19:27:01.093861Z",
     "start_time": "2020-03-24T19:27:00.845541Z"
    }
   },
   "outputs": [],
   "source": [
    "df_covid.hist(column='body_word_count', bins=100)"
   ]
  },
  {
   "cell_type": "code",
   "execution_count": null,
   "metadata": {
    "ExecuteTime": {
     "end_time": "2020-03-24T19:29:14.009636Z",
     "start_time": "2020-03-24T19:29:13.999064Z"
    }
   },
   "outputs": [],
   "source": [
    "sorted(df_covid['body_word_count'].tolist())[-100:]"
   ]
  },
  {
   "cell_type": "code",
   "execution_count": null,
   "metadata": {},
   "outputs": [],
   "source": []
  }
 ],
 "metadata": {
  "kernelspec": {
   "display_name": "Python 3",
   "language": "python",
   "name": "python3"
  },
  "language_info": {
   "codemirror_mode": {
    "name": "ipython",
    "version": 3
   },
   "file_extension": ".py",
   "mimetype": "text/x-python",
   "name": "python",
   "nbconvert_exporter": "python",
   "pygments_lexer": "ipython3",
   "version": "3.7.4"
  },
  "toc": {
   "base_numbering": 1,
   "nav_menu": {},
   "number_sections": true,
   "sideBar": true,
   "skip_h1_title": false,
   "title_cell": "Table of Contents",
   "title_sidebar": "Contents",
   "toc_cell": false,
   "toc_position": {},
   "toc_section_display": true,
   "toc_window_display": false
  }
 },
 "nbformat": 4,
 "nbformat_minor": 2
}
