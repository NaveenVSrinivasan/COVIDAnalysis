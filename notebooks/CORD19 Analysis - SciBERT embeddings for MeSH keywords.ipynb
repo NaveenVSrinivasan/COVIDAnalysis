{
 "cells": [
  {
   "cell_type": "markdown",
   "metadata": {},
   "source": [
    "<h1> Overview </h1>\n",
    "\n",
    "COVID-19 Open Research Dataset (CORD-19) is a open dataset of scientific articles related to the novel COVID-19 virus and available for download online. We present this notebook as to accomplish the following tasks:\n",
    "\n",
    "<ul>\n",
    "<li>to retrieve specific, relevant data from a given dataset to answer given questions</li>\n",
    "<li>to understand and provide access to relationships between articles in the dataset</li>\n",
    "<li>to construct a robust measurement of success for such a task</li>\n",
    "</ul>\n",
    "\n",
    "An example result for answering given questions is shown below\n",
    "\n",
    "A snapshot of the relationships between articles in the dataset is shown through these embedding clusters"
   ]
  },
  {
   "cell_type": "markdown",
   "metadata": {},
   "source": [
    "<h1> Running from Github </h1>\n",
    "\n",
    "The full source code for this project can be found on Github. You can run embeddings creation with any of the described embeddings methods by using the create_embeddings.py function under clustering. A sample command is given below. Embeddings creation takes around -- time. This notebook will only load pre-run embeddings. "
   ]
  },
  {
   "cell_type": "markdown",
   "metadata": {},
   "source": [
    "<h1> Methodology </h1>\n",
    "\n",
    "## Constructing SciBERT embeddings filtered by MeSH Keywords\n",
    "\n",
    "We retrieve preprocessed sentence-level data from the SQLITE database prepared by David Mezzetti (CORD-19 Analysis with Sentence Embeddings). We then filter for MeSH keywords and construct SciBERT section embeddings for the sentences in the section.\n",
    "\n",
    "## Querying the dataset"
   ]
  },
  {
   "cell_type": "markdown",
   "metadata": {
    "ExecuteTime": {
     "end_time": "2020-04-06T04:23:26.160954Z",
     "start_time": "2020-04-06T04:23:26.157225Z"
    }
   },
   "source": [
    "<h1> Results </h1>\n",
    "\n",
    "## Search Results\n",
    "\n",
    "## Clustering Results"
   ]
  },
  {
   "cell_type": "markdown",
   "metadata": {},
   "source": [
    "<h1> Evaluation </h1>\n",
    "\n",
    "## Cluster cohesion\n",
    "\n",
    "## Performance on similar tasks"
   ]
  },
  {
   "cell_type": "markdown",
   "metadata": {},
   "source": [
    "<h1> Appendix </h1>\n",
    "\n",
    "Alternative embedding methods and results are shown here.\n",
    "\n",
    "## TFIDF embeddings\n",
    "\n",
    "## TFIDF weighted SciBERT embeddings\n",
    "\n",
    "## SciBERT embeddings\n",
    "\n",
    "## MeSH keyword embeddings"
   ]
  },
  {
   "cell_type": "code",
   "execution_count": null,
   "metadata": {},
   "outputs": [],
   "source": []
  }
 ],
 "metadata": {
  "kernelspec": {
   "display_name": "Python 3",
   "language": "python",
   "name": "python3"
  },
  "language_info": {
   "codemirror_mode": {
    "name": "ipython",
    "version": 3
   },
   "file_extension": ".py",
   "mimetype": "text/x-python",
   "name": "python",
   "nbconvert_exporter": "python",
   "pygments_lexer": "ipython3",
   "version": "3.7.4"
  },
  "toc": {
   "base_numbering": 1,
   "nav_menu": {},
   "number_sections": true,
   "sideBar": true,
   "skip_h1_title": false,
   "title_cell": "Table of Contents",
   "title_sidebar": "Contents",
   "toc_cell": false,
   "toc_position": {},
   "toc_section_display": true,
   "toc_window_display": true
  }
 },
 "nbformat": 4,
 "nbformat_minor": 2
}
